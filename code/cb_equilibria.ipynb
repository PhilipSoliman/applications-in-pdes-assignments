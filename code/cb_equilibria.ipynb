{
 "cells": [
  {
   "cell_type": "code",
   "execution_count": 1,
   "metadata": {},
   "outputs": [],
   "source": [
    "import numpy as np\n",
    "import matplotlib.pyplot as plt\n",
    "import sympy as sym\n",
    "import scipy as sp\n",
    "from IPython.display import display, Math, Latex"
   ]
  },
  {
   "cell_type": "code",
   "execution_count": 7,
   "metadata": {},
   "outputs": [],
   "source": [
    "# %pip install ipympl \n",
    "%matplotlib widget "
   ]
  },
  {
   "cell_type": "code",
   "execution_count": 12,
   "metadata": {},
   "outputs": [
    {
     "data": {
      "text/latex": [
       "$\\displaystyle F = \\left[\\begin{matrix}- \\delta_{R} \\hat{R}_{a} + \\frac{\\hat{A} \\left(1 - \\hat{R}_{a}\\right)}{\\hat{\\rho}_a^{n} + \\rho_{0}^{n}}\\\\\\frac{\\hat{B} \\left(1 - \\hat{\\rho}_a\\right)}{\\hat{R}_0^{n} + \\hat{R}_{a}^{n}} - \\hat{\\rho}_a\\end{matrix}\\right]$"
      ],
      "text/plain": [
       "<IPython.core.display.Math object>"
      ]
     },
     "metadata": {},
     "output_type": "display_data"
    },
    {
     "ename": "NotImplementedError",
     "evalue": "could not solve -\\delta_R*\\hat{R}_{a}*(\\rho_0**n + (\\hat{B}/(\\hat{B} + \\hat{R}_0**n + \\hat{R}_{a}**n))**n) + \\hat{A}*(1 - \\hat{R}_{a})",
     "output_type": "error",
     "traceback": [
      "\u001b[1;31m---------------------------------------------------------------------------\u001b[0m",
      "\u001b[1;31mNotImplementedError\u001b[0m                       Traceback (most recent call last)",
      "Cell \u001b[1;32mIn[12], line 13\u001b[0m\n\u001b[0;32m     11\u001b[0m display(Math(\u001b[38;5;124mr\u001b[39m\u001b[38;5;124m\"\u001b[39m\u001b[38;5;124mF = \u001b[39m\u001b[38;5;124m\"\u001b[39m \u001b[38;5;241m+\u001b[39m sym\u001b[38;5;241m.\u001b[39mlatex(F)))\n\u001b[0;32m     12\u001b[0m \u001b[38;5;66;03m# find fixed points\u001b[39;00m\n\u001b[1;32m---> 13\u001b[0m fixed_points \u001b[38;5;241m=\u001b[39m \u001b[43msym\u001b[49m\u001b[38;5;241;43m.\u001b[39;49m\u001b[43msolve\u001b[49m\u001b[43m(\u001b[49m\u001b[43mF\u001b[49m\u001b[43m,\u001b[49m\u001b[43m \u001b[49m\u001b[43m(\u001b[49m\u001b[43mR\u001b[49m\u001b[43m,\u001b[49m\u001b[43m \u001b[49m\u001b[43mrho\u001b[49m\u001b[43m)\u001b[49m\u001b[43m)\u001b[49m\n\u001b[0;32m     14\u001b[0m \u001b[38;5;28;01mfor\u001b[39;00m point \u001b[38;5;129;01min\u001b[39;00m fixed_points:\n\u001b[0;32m     15\u001b[0m     display(Math(sym\u001b[38;5;241m.\u001b[39mlatex(point)))\n",
      "File \u001b[1;32mc:\\Users\\TUDelftSID\\OneDrive - Delft University of Technology\\Documenten\\TUD\\AM\\WI4680 Applications in Partial Differential Equations\\applications-in-pdes-assignments\\code\\.venv\\lib\\site-packages\\sympy\\solvers\\solvers.py:1147\u001b[0m, in \u001b[0;36msolve\u001b[1;34m(f, *symbols, **flags)\u001b[0m\n\u001b[0;32m   1145\u001b[0m         solution \u001b[38;5;241m=\u001b[39m _solve(f[\u001b[38;5;241m0\u001b[39m], \u001b[38;5;241m*\u001b[39msymbols, \u001b[38;5;241m*\u001b[39m\u001b[38;5;241m*\u001b[39mflags)\n\u001b[0;32m   1146\u001b[0m \u001b[38;5;28;01melse\u001b[39;00m:\n\u001b[1;32m-> 1147\u001b[0m     linear, solution \u001b[38;5;241m=\u001b[39m _solve_system(f, symbols, \u001b[38;5;241m*\u001b[39m\u001b[38;5;241m*\u001b[39mflags)\n\u001b[0;32m   1148\u001b[0m \u001b[38;5;28;01massert\u001b[39;00m \u001b[38;5;28mtype\u001b[39m(solution) \u001b[38;5;129;01mis\u001b[39;00m \u001b[38;5;28mlist\u001b[39m\n\u001b[0;32m   1149\u001b[0m \u001b[38;5;28;01massert\u001b[39;00m \u001b[38;5;129;01mnot\u001b[39;00m solution \u001b[38;5;129;01mor\u001b[39;00m \u001b[38;5;28mtype\u001b[39m(solution[\u001b[38;5;241m0\u001b[39m]) \u001b[38;5;129;01mis\u001b[39;00m \u001b[38;5;28mdict\u001b[39m, solution\n",
      "File \u001b[1;32mc:\\Users\\TUDelftSID\\OneDrive - Delft University of Technology\\Documenten\\TUD\\AM\\WI4680 Applications in Partial Differential Equations\\applications-in-pdes-assignments\\code\\.venv\\lib\\site-packages\\sympy\\solvers\\solvers.py:1962\u001b[0m, in \u001b[0;36m_solve_system\u001b[1;34m(exprs, symbols, **flags)\u001b[0m\n\u001b[0;32m   1960\u001b[0m         got_s\u001b[38;5;241m.\u001b[39madd(s)\n\u001b[0;32m   1961\u001b[0m     \u001b[38;5;28;01mif\u001b[39;00m \u001b[38;5;129;01mnot\u001b[39;00m hit:\n\u001b[1;32m-> 1962\u001b[0m         \u001b[38;5;28;01mraise\u001b[39;00m \u001b[38;5;167;01mNotImplementedError\u001b[39;00m(\u001b[38;5;124m'\u001b[39m\u001b[38;5;124mcould not solve \u001b[39m\u001b[38;5;132;01m%s\u001b[39;00m\u001b[38;5;124m'\u001b[39m \u001b[38;5;241m%\u001b[39m eq2)\n\u001b[0;32m   1963\u001b[0m \u001b[38;5;28;01melse\u001b[39;00m:\n\u001b[0;32m   1964\u001b[0m     result \u001b[38;5;241m=\u001b[39m newresult\n",
      "\u001b[1;31mNotImplementedError\u001b[0m: could not solve -\\delta_R*\\hat{R}_{a}*(\\rho_0**n + (\\hat{B}/(\\hat{B} + \\hat{R}_0**n + \\hat{R}_{a}**n))**n) + \\hat{A}*(1 - \\hat{R}_{a})"
     ]
    }
   ],
   "source": [
    "R, rho, R_0, rho_0, A, B, d, n  = sym.symbols(r\"\\hat{R}_{a} \\hat{\\rho}_a \\hat{R}_0 \\rho_0 \\hat{A} \\hat{B} \\delta_R n\", real=True)\n",
    "\n",
    "# define system\n",
    "F = sym.Matrix(\n",
    "    [\n",
    "        A*(1 - R)/(rho_0**n + rho**n) - d*R,\n",
    "        B*(1 - rho)/(R_0**n + R**n) - rho,\n",
    "    ]\n",
    ")\n",
    "\n",
    "display(Math(r\"F = \" + sym.latex(F)))\n",
    "# find fixed points\n",
    "fixed_points = sym.solve(F, (R, rho))\n",
    "for point in fixed_points:\n",
    "    display(Math(sym.latex(point)))\n",
    "\n",
    "\n",
    "# # find jacobian\n",
    "# J = F.jacobian((x, y, z))\n",
    "# display(Math(r\"Jac(F) = \" + sym.latex(J)))\n",
    "\n",
    "# # find eigenvalues at fixed points and calculate minimal order for chaos\n",
    "# positives = []\n",
    "# eigs = []\n",
    "# for point in fixed_points:\n",
    "#     # check if point is positive\n",
    "#     if any([point[i] <= 0 for i in range(len(point))]):\n",
    "#         positive = r\"\\color{red}point is not positive\"\n",
    "#         positives.append(False)\n",
    "#     else:\n",
    "#         positive = r\"\\color{green}point is positive\"\n",
    "#         positives.append(True)\n",
    "#     print(\"--------\")\n",
    "#     display(Math(r\"\\textrm{Fixed point: }\" + sym.latex(point) + r\"\\leftarrow\\textbf{ \" + positive + \"}\"))\n",
    "#     J_at_point = J.subs({x: point[0], y: point[1], z: point[2]})\n",
    "#     display(Math(r\"Jac(F) \\text{ at } \" + sym.latex(point) + r\" = \"))\n",
    "#     display(Math(sym.latex(J_at_point)))\n",
    "#     eigenvalues = J_at_point.eigenvals()\n",
    "#     eigs.append(eigenvalues.keys())\n",
    "#     for k, eigenvalue in enumerate(eigenvalues):\n",
    "#         display(Math(f\"\\lambda_{k} = \" + sym.latex(eigenvalue)))\n"
   ]
  }
 ],
 "metadata": {
  "kernelspec": {
   "display_name": ".venv",
   "language": "python",
   "name": "python3"
  },
  "language_info": {
   "codemirror_mode": {
    "name": "ipython",
    "version": 3
   },
   "file_extension": ".py",
   "mimetype": "text/x-python",
   "name": "python",
   "nbconvert_exporter": "python",
   "pygments_lexer": "ipython3",
   "version": "3.9.13"
  }
 },
 "nbformat": 4,
 "nbformat_minor": 2
}
